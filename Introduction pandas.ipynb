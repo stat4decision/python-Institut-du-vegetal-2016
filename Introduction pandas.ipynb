{
 "cells": [
  {
   "cell_type": "code",
   "execution_count": 1,
   "metadata": {
    "collapsed": true
   },
   "outputs": [],
   "source": [
    "import numpy as np\n",
    "import pandas as pd\n",
    "from pandas import Series, DataFrame"
   ]
  },
  {
   "cell_type": "code",
   "execution_count": 2,
   "metadata": {
    "collapsed": false
   },
   "outputs": [
    {
     "name": "stdout",
     "output_type": "stream",
     "text": [
      "France         60\n",
      "Etats-Unis    250\n",
      "dtype: int64\n"
     ]
    }
   ],
   "source": [
    "#Définir un objet Series comprenant la population de 5 pays puis afficher les pays ayant une population > 50’000’000\n",
    "\n",
    "ma_serie=Series([60,8,30,250], index=[\"France\",\"Suisse\", \"Espagne\", \"Etats-Unis\"])\n",
    "print (ma_serie[ma_serie>50])"
   ]
  },
  {
   "cell_type": "code",
   "execution_count": 3,
   "metadata": {
    "collapsed": true
   },
   "outputs": [],
   "source": [
    "#Définir les noms de l’objet et de la colonne des pays pour la Series précédente\n",
    "ma_serie.name=\"Populations\"\n",
    "ma_serie.index.name=\"Pays\""
   ]
  },
  {
   "cell_type": "code",
   "execution_count": 4,
   "metadata": {
    "collapsed": false
   },
   "outputs": [
    {
     "data": {
      "text/html": [
       "<div>\n",
       "<table border=\"1\" class=\"dataframe\">\n",
       "  <thead>\n",
       "    <tr style=\"text-align: right;\">\n",
       "      <th></th>\n",
       "      <th>legume</th>\n",
       "      <th>prix</th>\n",
       "    </tr>\n",
       "  </thead>\n",
       "  <tbody>\n",
       "    <tr>\n",
       "      <th>0</th>\n",
       "      <td>tomate</td>\n",
       "      <td>2.20</td>\n",
       "    </tr>\n",
       "    <tr>\n",
       "      <th>1</th>\n",
       "      <td>carotte</td>\n",
       "      <td>3.00</td>\n",
       "    </tr>\n",
       "    <tr>\n",
       "      <th>2</th>\n",
       "      <td>chou</td>\n",
       "      <td>1.43</td>\n",
       "    </tr>\n",
       "  </tbody>\n",
       "</table>\n",
       "</div>"
      ],
      "text/plain": [
       "    legume  prix\n",
       "0   tomate  2.20\n",
       "1  carotte  3.00\n",
       "2     chou  1.43"
      ]
     },
     "execution_count": 4,
     "metadata": {},
     "output_type": "execute_result"
    }
   ],
   "source": [
    "#Construire un dictionnaire avec des produits et des prix puis afficher la DataFrames obtenue en transformant ce dictionnaire\n",
    "dico_prix={ 'legume':['tomate','carotte', 'chou'],'prix':[2.2, 3, 1.43]}\n",
    "frame_prix=DataFrame(dico_prix)\n",
    "frame_prix"
   ]
  },
  {
   "cell_type": "code",
   "execution_count": 5,
   "metadata": {
    "collapsed": false
   },
   "outputs": [
    {
     "data": {
      "text/plain": [
       "True"
      ]
     },
     "execution_count": 5,
     "metadata": {},
     "output_type": "execute_result"
    }
   ],
   "source": [
    "#Récupérez les données de Wikipédia sur les résultats de NBA et obtenir les statistiques descriptives pour les variables quantitatives.\n",
    "import webbrowser\n",
    "url='https://en.wikipedia.org/wiki/List_of_all-time_NBA_win-loss_records'\n",
    "webbrowser.open(url)"
   ]
  },
  {
   "cell_type": "code",
   "execution_count": 6,
   "metadata": {
    "collapsed": true
   },
   "outputs": [],
   "source": [
    "#copier depuis le clipboard\n",
    "frame2=pd.read_clipboard(sep='\\s+')"
   ]
  },
  {
   "cell_type": "code",
   "execution_count": 8,
   "metadata": {
    "collapsed": false
   },
   "outputs": [
    {
     "name": "stderr",
     "output_type": "stream",
     "text": [
      "C:\\Anaconda2\\lib\\site-packages\\ipykernel\\__main__.py:7: FutureWarning: convert_objects is deprecated.  Use the data-type specific converters pd.to_datetime, pd.to_timedelta and pd.to_numeric.\n"
     ]
    }
   ],
   "source": [
    "#on transforme les variables mal importées\n",
    "frame2.columns\n",
    "frame2[\"Won\"]=frame2[\"Won\"].str.replace(',', '')\n",
    "frame2[\"Lost\"]=frame2[\"Won\"].str.replace(',', '')\n",
    "frame2[\"Total Games\"]=frame2[\"Won\"].str.replace(',', '')\n",
    "del frame2['First NBA Season']\n",
    "frame2 = frame2.convert_objects(convert_numeric=True)"
   ]
  },
  {
   "cell_type": "code",
   "execution_count": 9,
   "metadata": {
    "collapsed": false
   },
   "outputs": [
    {
     "data": {
      "text/html": [
       "<div>\n",
       "<table border=\"1\" class=\"dataframe\">\n",
       "  <thead>\n",
       "    <tr style=\"text-align: right;\">\n",
       "      <th></th>\n",
       "      <th>Rank</th>\n",
       "      <th>Won</th>\n",
       "      <th>Lost</th>\n",
       "      <th>Pct.</th>\n",
       "      <th>Total Games</th>\n",
       "    </tr>\n",
       "  </thead>\n",
       "  <tbody>\n",
       "    <tr>\n",
       "      <th>count</th>\n",
       "      <td>30.000000</td>\n",
       "      <td>30.000000</td>\n",
       "      <td>30.000000</td>\n",
       "      <td>30.000000</td>\n",
       "      <td>30.000000</td>\n",
       "    </tr>\n",
       "    <tr>\n",
       "      <th>mean</th>\n",
       "      <td>15.500000</td>\n",
       "      <td>1852.966667</td>\n",
       "      <td>1852.966667</td>\n",
       "      <td>0.494000</td>\n",
       "      <td>1852.966667</td>\n",
       "    </tr>\n",
       "    <tr>\n",
       "      <th>std</th>\n",
       "      <td>8.803408</td>\n",
       "      <td>737.296342</td>\n",
       "      <td>737.296342</td>\n",
       "      <td>0.056163</td>\n",
       "      <td>737.296342</td>\n",
       "    </tr>\n",
       "    <tr>\n",
       "      <th>min</th>\n",
       "      <td>1.000000</td>\n",
       "      <td>528.000000</td>\n",
       "      <td>528.000000</td>\n",
       "      <td>0.391000</td>\n",
       "      <td>528.000000</td>\n",
       "    </tr>\n",
       "    <tr>\n",
       "      <th>25%</th>\n",
       "      <td>8.250000</td>\n",
       "      <td>1387.250000</td>\n",
       "      <td>1387.250000</td>\n",
       "      <td>0.460250</td>\n",
       "      <td>1387.250000</td>\n",
       "    </tr>\n",
       "    <tr>\n",
       "      <th>50%</th>\n",
       "      <td>15.500000</td>\n",
       "      <td>1987.000000</td>\n",
       "      <td>1987.000000</td>\n",
       "      <td>0.495000</td>\n",
       "      <td>1987.000000</td>\n",
       "    </tr>\n",
       "    <tr>\n",
       "      <th>75%</th>\n",
       "      <td>22.750000</td>\n",
       "      <td>2382.750000</td>\n",
       "      <td>2382.750000</td>\n",
       "      <td>0.521500</td>\n",
       "      <td>2382.750000</td>\n",
       "    </tr>\n",
       "    <tr>\n",
       "      <th>max</th>\n",
       "      <td>30.000000</td>\n",
       "      <td>3235.000000</td>\n",
       "      <td>3235.000000</td>\n",
       "      <td>0.621000</td>\n",
       "      <td>3235.000000</td>\n",
       "    </tr>\n",
       "  </tbody>\n",
       "</table>\n",
       "</div>"
      ],
      "text/plain": [
       "            Rank          Won         Lost       Pct.  Total Games\n",
       "count  30.000000    30.000000    30.000000  30.000000    30.000000\n",
       "mean   15.500000  1852.966667  1852.966667   0.494000  1852.966667\n",
       "std     8.803408   737.296342   737.296342   0.056163   737.296342\n",
       "min     1.000000   528.000000   528.000000   0.391000   528.000000\n",
       "25%     8.250000  1387.250000  1387.250000   0.460250  1387.250000\n",
       "50%    15.500000  1987.000000  1987.000000   0.495000  1987.000000\n",
       "75%    22.750000  2382.750000  2382.750000   0.521500  2382.750000\n",
       "max    30.000000  3235.000000  3235.000000   0.621000  3235.000000"
      ]
     },
     "execution_count": 9,
     "metadata": {},
     "output_type": "execute_result"
    }
   ],
   "source": [
    "#on affiche les stats descriptives\n",
    "frame2.describe()"
   ]
  },
  {
   "cell_type": "code",
   "execution_count": 10,
   "metadata": {
    "collapsed": false
   },
   "outputs": [
    {
     "data": {
      "text/plain": [
       "a    1\n",
       "b    3\n",
       "c    4\n",
       "d    5\n",
       "dtype: int64"
      ]
     },
     "execution_count": 10,
     "metadata": {},
     "output_type": "execute_result"
    }
   ],
   "source": [
    "#Construire un objet Series quelconque avec des libellés (index) de A à D puis réindexer l’objet avec une liste de A à E. \n",
    "X=Series([1,3,4,5], index=[\"a\",\"b\",\"c\",\"d\"])\n",
    "X"
   ]
  },
  {
   "cell_type": "code",
   "execution_count": 11,
   "metadata": {
    "collapsed": true
   },
   "outputs": [],
   "source": [
    "X=X.reindex([\"a\",\"b\",\"c\",\"d\",\"e\"])"
   ]
  },
  {
   "cell_type": "code",
   "execution_count": 12,
   "metadata": {
    "collapsed": true
   },
   "outputs": [],
   "source": [
    "#Recommencer en ajoutant F avec la valeur 0\n",
    "X=X.reindex([\"a\",\"b\",\"c\",\"d\",\"e\",\"f\"], fill_value=0)\n"
   ]
  },
  {
   "cell_type": "code",
   "execution_count": 13,
   "metadata": {
    "collapsed": false
   },
   "outputs": [
    {
     "data": {
      "text/html": [
       "<div>\n",
       "<table border=\"1\" class=\"dataframe\">\n",
       "  <thead>\n",
       "    <tr style=\"text-align: right;\">\n",
       "      <th></th>\n",
       "      <th>col1</th>\n",
       "      <th>col2</th>\n",
       "      <th>col3</th>\n",
       "    </tr>\n",
       "  </thead>\n",
       "  <tbody>\n",
       "    <tr>\n",
       "      <th>obs1</th>\n",
       "      <td>NaN</td>\n",
       "      <td>NaN</td>\n",
       "      <td>NaN</td>\n",
       "    </tr>\n",
       "    <tr>\n",
       "      <th>obs2</th>\n",
       "      <td>NaN</td>\n",
       "      <td>NaN</td>\n",
       "      <td>5</td>\n",
       "    </tr>\n",
       "  </tbody>\n",
       "</table>\n",
       "</div>"
      ],
      "text/plain": [
       "      col1  col2  col3\n",
       "obs1   NaN   NaN   NaN\n",
       "obs2   NaN   NaN     5"
      ]
     },
     "execution_count": 13,
     "metadata": {},
     "output_type": "execute_result"
    }
   ],
   "source": [
    "#Construire un objet DataFrame à 2 dimensions avec des labels pour les lignes et pour les colonnes. \n",
    "Y=DataFrame([[1,2,3],[3,4,5]],index=[\"obs1\",\"obs2\"], columns=[\"col1\",\"col2\",\"col3\"])\n",
    "\n",
    "\n",
    "#Ajouter une colonne en réindexant les colonnes \n",
    "Y=Y.reindex(columns=[\"col1\",\"col2\",\"col3\",\"col4\"], fill_value=22)\n",
    "\n",
    "#supprimer cette colonne\n",
    "Y=Y.drop(\"col4\",axis=1)\n",
    "\n",
    "#afficher uniquement les valeurs  plus grandes que 4\n",
    "Y[Y>4]"
   ]
  },
  {
   "cell_type": "code",
   "execution_count": 14,
   "metadata": {
    "collapsed": false
   },
   "outputs": [
    {
     "data": {
      "text/html": [
       "<div>\n",
       "<table border=\"1\" class=\"dataframe\">\n",
       "  <thead>\n",
       "    <tr style=\"text-align: right;\">\n",
       "      <th></th>\n",
       "      <th>col1</th>\n",
       "      <th>col2</th>\n",
       "      <th>col3</th>\n",
       "      <th>col4</th>\n",
       "    </tr>\n",
       "  </thead>\n",
       "  <tbody>\n",
       "    <tr>\n",
       "      <th>obs1</th>\n",
       "      <td>11</td>\n",
       "      <td>22</td>\n",
       "      <td>3</td>\n",
       "      <td>30</td>\n",
       "    </tr>\n",
       "    <tr>\n",
       "      <th>obs2</th>\n",
       "      <td>3</td>\n",
       "      <td>4</td>\n",
       "      <td>5</td>\n",
       "      <td>NaN</td>\n",
       "    </tr>\n",
       "    <tr>\n",
       "      <th>obs3</th>\n",
       "      <td>55</td>\n",
       "      <td>55</td>\n",
       "      <td>NaN</td>\n",
       "      <td>23</td>\n",
       "    </tr>\n",
       "  </tbody>\n",
       "</table>\n",
       "</div>"
      ],
      "text/plain": [
       "      col1  col2  col3  col4\n",
       "obs1    11    22     3    30\n",
       "obs2     3     4     5   NaN\n",
       "obs3    55    55   NaN    23"
      ]
     },
     "execution_count": 14,
     "metadata": {},
     "output_type": "execute_result"
    }
   ],
   "source": [
    "#Construire deux frames avec quelques colonnes et lignes en commun puis combinez-les.\n",
    "Z=DataFrame([[10,20,30],[55,55,23]],index=[\"obs1\",\"obs3\"], columns=[\"col1\",\"col2\",\"col4\"])\n",
    "\n",
    "Y.add(Z,fill_value=0)"
   ]
  },
  {
   "cell_type": "code",
   "execution_count": 20,
   "metadata": {
    "collapsed": false
   },
   "outputs": [
    {
     "data": {
      "text/plain": [
       "Index([u'Rank', u'Team', u'Won', u'Lost', u'Pct.', u'Total Games',\n",
       "       u'Division'],\n",
       "      dtype='object')"
      ]
     },
     "execution_count": 20,
     "metadata": {},
     "output_type": "execute_result"
    }
   ],
   "source": [
    "#Trier les données NBA en fonction de la variable pts.\n",
    "frame2.columns"
   ]
  },
  {
   "cell_type": "code",
   "execution_count": 21,
   "metadata": {
    "collapsed": true
   },
   "outputs": [],
   "source": [
    "NBA_trier=frame2.sort_values(\"Pct.\")"
   ]
  },
  {
   "cell_type": "code",
   "execution_count": 22,
   "metadata": {
    "collapsed": false
   },
   "outputs": [
    {
     "data": {
      "text/html": [
       "<div>\n",
       "<table border=\"1\" class=\"dataframe\">\n",
       "  <thead>\n",
       "    <tr style=\"text-align: right;\">\n",
       "      <th></th>\n",
       "      <th>un</th>\n",
       "      <th>deux</th>\n",
       "      <th>trois</th>\n",
       "    </tr>\n",
       "  </thead>\n",
       "  <tbody>\n",
       "    <tr>\n",
       "      <th>A</th>\n",
       "      <td>0</td>\n",
       "      <td>1</td>\n",
       "      <td>2</td>\n",
       "    </tr>\n",
       "    <tr>\n",
       "      <th>B</th>\n",
       "      <td>3</td>\n",
       "      <td>4</td>\n",
       "      <td>5</td>\n",
       "    </tr>\n",
       "    <tr>\n",
       "      <th>C</th>\n",
       "      <td>6</td>\n",
       "      <td>7</td>\n",
       "      <td>8</td>\n",
       "    </tr>\n",
       "    <tr>\n",
       "      <th>D</th>\n",
       "      <td>9</td>\n",
       "      <td>10</td>\n",
       "      <td>11</td>\n",
       "    </tr>\n",
       "  </tbody>\n",
       "</table>\n",
       "</div>"
      ],
      "text/plain": [
       "   un  deux  trois\n",
       "A   0     1      2\n",
       "B   3     4      5\n",
       "C   6     7      8\n",
       "D   9    10     11"
      ]
     },
     "execution_count": 22,
     "metadata": {},
     "output_type": "execute_result"
    }
   ],
   "source": [
    "#Créer un DataFrame de taille 4 x 3 et obtenir les différentes statistiques descriptives.\n",
    "Frame4=np.array(range(12)).reshape(4,3)\n",
    "Frame4 = DataFrame(Frame4,index=['A','B','C','D'],columns = ['un','deux','trois'])\n",
    "Frame4"
   ]
  },
  {
   "cell_type": "code",
   "execution_count": 25,
   "metadata": {
    "collapsed": false
   },
   "outputs": [
    {
     "name": "stdout",
     "output_type": "stream",
     "text": [
      "un       18\n",
      "deux     22\n",
      "trois    26\n",
      "dtype: int64\n",
      "A     3\n",
      "B    12\n",
      "C    21\n",
      "D    30\n",
      "dtype: int64\n",
      "             un       deux      trois\n",
      "count  4.000000   4.000000   4.000000\n",
      "mean   4.500000   5.500000   6.500000\n",
      "std    3.872983   3.872983   3.872983\n",
      "min    0.000000   1.000000   2.000000\n",
      "25%    2.250000   3.250000   4.250000\n",
      "50%    4.500000   5.500000   6.500000\n",
      "75%    6.750000   7.750000   8.750000\n",
      "max    9.000000  10.000000  11.000000\n",
      "       un  deux  trois\n",
      "un      1     1      1\n",
      "deux    1     1      1\n",
      "trois   1     1      1\n"
     ]
    }
   ],
   "source": [
    "#somme par colonne\n",
    "print Frame4.sum(axis=0)\n",
    "#somme par ligne\n",
    "print Frame4.sum(axis=1)\n",
    "#stat desc\n",
    "print Frame4.describe()\n",
    "#matrice de corrélation\n",
    "print Frame4.corr()\n"
   ]
  },
  {
   "cell_type": "code",
   "execution_count": 27,
   "metadata": {
    "collapsed": false
   },
   "outputs": [
    {
     "data": {
      "text/html": [
       "<div>\n",
       "<table border=\"1\" class=\"dataframe\">\n",
       "  <thead>\n",
       "    <tr style=\"text-align: right;\">\n",
       "      <th></th>\n",
       "      <th>account</th>\n",
       "      <th>Jan</th>\n",
       "      <th>Feb</th>\n",
       "      <th>Mar</th>\n",
       "    </tr>\n",
       "  </thead>\n",
       "  <tbody>\n",
       "    <tr>\n",
       "      <th>0</th>\n",
       "      <td>211829</td>\n",
       "      <td>10000</td>\n",
       "      <td>62000</td>\n",
       "      <td>35000</td>\n",
       "    </tr>\n",
       "    <tr>\n",
       "      <th>1</th>\n",
       "      <td>320563</td>\n",
       "      <td>95000</td>\n",
       "      <td>45000</td>\n",
       "      <td>35000</td>\n",
       "    </tr>\n",
       "    <tr>\n",
       "      <th>2</th>\n",
       "      <td>648336</td>\n",
       "      <td>91000</td>\n",
       "      <td>120000</td>\n",
       "      <td>35000</td>\n",
       "    </tr>\n",
       "    <tr>\n",
       "      <th>3</th>\n",
       "      <td>109996</td>\n",
       "      <td>45000</td>\n",
       "      <td>120000</td>\n",
       "      <td>10000</td>\n",
       "    </tr>\n",
       "    <tr>\n",
       "      <th>4</th>\n",
       "      <td>121213</td>\n",
       "      <td>162000</td>\n",
       "      <td>120000</td>\n",
       "      <td>35000</td>\n",
       "    </tr>\n",
       "  </tbody>\n",
       "</table>\n",
       "</div>"
      ],
      "text/plain": [
       "   account     Jan     Feb    Mar\n",
       "0   211829   10000   62000  35000\n",
       "1   320563   95000   45000  35000\n",
       "2   648336   91000  120000  35000\n",
       "3   109996   45000  120000  10000\n",
       "4   121213  162000  120000  35000"
      ]
     },
     "execution_count": 27,
     "metadata": {},
     "output_type": "execute_result"
    }
   ],
   "source": [
    "#Importez le fichier demo_ventes.csv depuis Python dans FrameVentes.\n",
    "FrameVentes = pd.read_csv(\"demo_ventes.csv\",sep=\";\",decimal=\",\")\n",
    "FrameVentes.head()"
   ]
  },
  {
   "cell_type": "code",
   "execution_count": 28,
   "metadata": {
    "collapsed": false
   },
   "outputs": [
    {
     "data": {
      "text/plain": [
       "True"
      ]
     },
     "execution_count": 28,
     "metadata": {},
     "output_type": "execute_result"
    }
   ],
   "source": [
    "#Importez un tableau en html depuis la page \n",
    "url = 'http://www.fdic.gov/bank/individual/failed/banklist.html'\n",
    "webbrowser.open(url)"
   ]
  },
  {
   "cell_type": "code",
   "execution_count": 32,
   "metadata": {
    "collapsed": false
   },
   "outputs": [
    {
     "data": {
      "text/html": [
       "<div>\n",
       "<table border=\"1\" class=\"dataframe\">\n",
       "  <thead>\n",
       "    <tr style=\"text-align: right;\">\n",
       "      <th></th>\n",
       "      <th>Bank Name</th>\n",
       "      <th>City</th>\n",
       "      <th>ST</th>\n",
       "      <th>CERT</th>\n",
       "      <th>Acquiring Institution</th>\n",
       "      <th>Closing Date</th>\n",
       "      <th>Updated Date</th>\n",
       "      <th>Loss Share Type</th>\n",
       "      <th>Agreement Terminated</th>\n",
       "      <th>Termination Date</th>\n",
       "    </tr>\n",
       "  </thead>\n",
       "  <tbody>\n",
       "    <tr>\n",
       "      <th>0</th>\n",
       "      <td>First CornerStone Bank</td>\n",
       "      <td>King of Prussia</td>\n",
       "      <td>PA</td>\n",
       "      <td>35312</td>\n",
       "      <td>First-Citizens Bank &amp; Trust Company</td>\n",
       "      <td>May 6, 2016</td>\n",
       "      <td>May 12, 2016</td>\n",
       "      <td>NaN</td>\n",
       "      <td>NaN</td>\n",
       "      <td>NaN</td>\n",
       "    </tr>\n",
       "    <tr>\n",
       "      <th>1</th>\n",
       "      <td>Trust Company Bank</td>\n",
       "      <td>Memphis</td>\n",
       "      <td>TN</td>\n",
       "      <td>9956</td>\n",
       "      <td>The Bank of Fayette County</td>\n",
       "      <td>April 29, 2016</td>\n",
       "      <td>May 10, 2016</td>\n",
       "      <td>NaN</td>\n",
       "      <td>NaN</td>\n",
       "      <td>NaN</td>\n",
       "    </tr>\n",
       "    <tr>\n",
       "      <th>2</th>\n",
       "      <td>North Milwaukee State Bank</td>\n",
       "      <td>Milwaukee</td>\n",
       "      <td>WI</td>\n",
       "      <td>20364</td>\n",
       "      <td>First-Citizens Bank &amp; Trust Company</td>\n",
       "      <td>March 11, 2016</td>\n",
       "      <td>April 22, 2016</td>\n",
       "      <td>NaN</td>\n",
       "      <td>NaN</td>\n",
       "      <td>NaN</td>\n",
       "    </tr>\n",
       "    <tr>\n",
       "      <th>3</th>\n",
       "      <td>Hometown National Bank</td>\n",
       "      <td>Longview</td>\n",
       "      <td>WA</td>\n",
       "      <td>35156</td>\n",
       "      <td>Twin City Bank</td>\n",
       "      <td>October 2, 2015</td>\n",
       "      <td>April 13, 2016</td>\n",
       "      <td>NaN</td>\n",
       "      <td>NaN</td>\n",
       "      <td>NaN</td>\n",
       "    </tr>\n",
       "    <tr>\n",
       "      <th>4</th>\n",
       "      <td>The Bank of Georgia</td>\n",
       "      <td>Peachtree City</td>\n",
       "      <td>GA</td>\n",
       "      <td>35259</td>\n",
       "      <td>Fidelity Bank</td>\n",
       "      <td>October 2, 2015</td>\n",
       "      <td>April 13, 2016</td>\n",
       "      <td>NaN</td>\n",
       "      <td>NaN</td>\n",
       "      <td>NaN</td>\n",
       "    </tr>\n",
       "  </tbody>\n",
       "</table>\n",
       "</div>"
      ],
      "text/plain": [
       "                    Bank Name             City  ST   CERT  \\\n",
       "0      First CornerStone Bank  King of Prussia  PA  35312   \n",
       "1          Trust Company Bank          Memphis  TN   9956   \n",
       "2  North Milwaukee State Bank        Milwaukee  WI  20364   \n",
       "3      Hometown National Bank         Longview  WA  35156   \n",
       "4         The Bank of Georgia   Peachtree City  GA  35259   \n",
       "\n",
       "                 Acquiring Institution     Closing Date    Updated Date  \\\n",
       "0  First-Citizens Bank & Trust Company      May 6, 2016    May 12, 2016   \n",
       "1           The Bank of Fayette County   April 29, 2016    May 10, 2016   \n",
       "2  First-Citizens Bank & Trust Company   March 11, 2016  April 22, 2016   \n",
       "3                       Twin City Bank  October 2, 2015  April 13, 2016   \n",
       "4                        Fidelity Bank  October 2, 2015  April 13, 2016   \n",
       "\n",
       "  Loss Share Type Agreement Terminated Termination Date  \n",
       "0             NaN                  NaN              NaN  \n",
       "1             NaN                  NaN              NaN  \n",
       "2             NaN                  NaN              NaN  \n",
       "3             NaN                  NaN              NaN  \n",
       "4             NaN                  NaN              NaN  "
      ]
     },
     "execution_count": 32,
     "metadata": {},
     "output_type": "execute_result"
    }
   ],
   "source": [
    "#Importez un tableau en html depuis la page http://www.fdic.gov/bank/individual/failed/banklist.html \n",
    "from pandas import read_html\n",
    "dframe_list = pd.io.html.read_html(url)\n",
    "Frame5=dframe_list[0]\n",
    "Frame5.head()"
   ]
  },
  {
   "cell_type": "code",
   "execution_count": 31,
   "metadata": {
    "collapsed": false
   },
   "outputs": [
    {
     "data": {
      "text/html": [
       "<div>\n",
       "<table border=\"1\" class=\"dataframe\">\n",
       "  <thead>\n",
       "    <tr style=\"text-align: right;\">\n",
       "      <th></th>\n",
       "      <th>account</th>\n",
       "      <th>name</th>\n",
       "      <th>street</th>\n",
       "      <th>city</th>\n",
       "      <th>state</th>\n",
       "      <th>postal-code</th>\n",
       "    </tr>\n",
       "  </thead>\n",
       "  <tbody>\n",
       "    <tr>\n",
       "      <th>0</th>\n",
       "      <td>211829</td>\n",
       "      <td>Kerluke, Koepp and Hilpert</td>\n",
       "      <td>34456 Sean Highway</td>\n",
       "      <td>New Jaycob</td>\n",
       "      <td>Texas</td>\n",
       "      <td>28752</td>\n",
       "    </tr>\n",
       "    <tr>\n",
       "      <th>1</th>\n",
       "      <td>320563</td>\n",
       "      <td>Walter-Trantow</td>\n",
       "      <td>1311 Alvis Tunnel</td>\n",
       "      <td>Port Khadijah</td>\n",
       "      <td>NorthCarolina</td>\n",
       "      <td>38365</td>\n",
       "    </tr>\n",
       "    <tr>\n",
       "      <th>2</th>\n",
       "      <td>648336</td>\n",
       "      <td>Bashirian, Kunde and Price</td>\n",
       "      <td>62184 Schamberger Underpass Apt. 231</td>\n",
       "      <td>New Lilianland</td>\n",
       "      <td>Iowa</td>\n",
       "      <td>76517</td>\n",
       "    </tr>\n",
       "    <tr>\n",
       "      <th>3</th>\n",
       "      <td>109996</td>\n",
       "      <td>D'Amore, Gleichner and Bode</td>\n",
       "      <td>155 Fadel Crescent Apt. 144</td>\n",
       "      <td>Hyattburgh</td>\n",
       "      <td>Maine</td>\n",
       "      <td>46021</td>\n",
       "    </tr>\n",
       "    <tr>\n",
       "      <th>4</th>\n",
       "      <td>121213</td>\n",
       "      <td>Bauch-Goldner</td>\n",
       "      <td>7274 Marissa Common</td>\n",
       "      <td>Shanahanchester</td>\n",
       "      <td>California</td>\n",
       "      <td>49681</td>\n",
       "    </tr>\n",
       "  </tbody>\n",
       "</table>\n",
       "</div>"
      ],
      "text/plain": [
       "   account                         name                                street  \\\n",
       "0   211829   Kerluke, Koepp and Hilpert                    34456 Sean Highway   \n",
       "1   320563               Walter-Trantow                     1311 Alvis Tunnel   \n",
       "2   648336   Bashirian, Kunde and Price  62184 Schamberger Underpass Apt. 231   \n",
       "3   109996  D'Amore, Gleichner and Bode           155 Fadel Crescent Apt. 144   \n",
       "4   121213                Bauch-Goldner                   7274 Marissa Common   \n",
       "\n",
       "              city          state  postal-code  \n",
       "0       New Jaycob          Texas        28752  \n",
       "1    Port Khadijah  NorthCarolina        38365  \n",
       "2   New Lilianland           Iowa        76517  \n",
       "3       Hyattburgh          Maine        46021  \n",
       "4  Shanahanchester     California        49681  "
      ]
     },
     "execution_count": 31,
     "metadata": {},
     "output_type": "execute_result"
    }
   ],
   "source": [
    "#Importez un fichier Excel depuis python. On utilisera demo_excel.xlsx\n",
    "FrameExcel = pd.read_excel(\"excel-data.xlsx\")\n",
    "FrameExcel.head()"
   ]
  },
  {
   "cell_type": "code",
   "execution_count": 33,
   "metadata": {
    "collapsed": false
   },
   "outputs": [
    {
     "data": {
      "text/html": [
       "<div>\n",
       "<table border=\"1\" class=\"dataframe\">\n",
       "  <thead>\n",
       "    <tr style=\"text-align: right;\">\n",
       "      <th></th>\n",
       "      <th>account</th>\n",
       "      <th>name</th>\n",
       "      <th>street</th>\n",
       "      <th>city</th>\n",
       "      <th>state</th>\n",
       "      <th>postal-code</th>\n",
       "      <th>Jan</th>\n",
       "      <th>Feb</th>\n",
       "      <th>Mar</th>\n",
       "    </tr>\n",
       "  </thead>\n",
       "  <tbody>\n",
       "    <tr>\n",
       "      <th>0</th>\n",
       "      <td>211829</td>\n",
       "      <td>Kerluke, Koepp and Hilpert</td>\n",
       "      <td>34456 Sean Highway</td>\n",
       "      <td>New Jaycob</td>\n",
       "      <td>Texas</td>\n",
       "      <td>28752</td>\n",
       "      <td>10000</td>\n",
       "      <td>62000</td>\n",
       "      <td>35000</td>\n",
       "    </tr>\n",
       "    <tr>\n",
       "      <th>1</th>\n",
       "      <td>320563</td>\n",
       "      <td>Walter-Trantow</td>\n",
       "      <td>1311 Alvis Tunnel</td>\n",
       "      <td>Port Khadijah</td>\n",
       "      <td>NorthCarolina</td>\n",
       "      <td>38365</td>\n",
       "      <td>95000</td>\n",
       "      <td>45000</td>\n",
       "      <td>35000</td>\n",
       "    </tr>\n",
       "    <tr>\n",
       "      <th>2</th>\n",
       "      <td>648336</td>\n",
       "      <td>Bashirian, Kunde and Price</td>\n",
       "      <td>62184 Schamberger Underpass Apt. 231</td>\n",
       "      <td>New Lilianland</td>\n",
       "      <td>Iowa</td>\n",
       "      <td>76517</td>\n",
       "      <td>91000</td>\n",
       "      <td>120000</td>\n",
       "      <td>35000</td>\n",
       "    </tr>\n",
       "    <tr>\n",
       "      <th>3</th>\n",
       "      <td>109996</td>\n",
       "      <td>D'Amore, Gleichner and Bode</td>\n",
       "      <td>155 Fadel Crescent Apt. 144</td>\n",
       "      <td>Hyattburgh</td>\n",
       "      <td>Maine</td>\n",
       "      <td>46021</td>\n",
       "      <td>45000</td>\n",
       "      <td>120000</td>\n",
       "      <td>10000</td>\n",
       "    </tr>\n",
       "    <tr>\n",
       "      <th>4</th>\n",
       "      <td>121213</td>\n",
       "      <td>Bauch-Goldner</td>\n",
       "      <td>7274 Marissa Common</td>\n",
       "      <td>Shanahanchester</td>\n",
       "      <td>California</td>\n",
       "      <td>49681</td>\n",
       "      <td>162000</td>\n",
       "      <td>120000</td>\n",
       "      <td>35000</td>\n",
       "    </tr>\n",
       "  </tbody>\n",
       "</table>\n",
       "</div>"
      ],
      "text/plain": [
       "   account                         name                                street  \\\n",
       "0   211829   Kerluke, Koepp and Hilpert                    34456 Sean Highway   \n",
       "1   320563               Walter-Trantow                     1311 Alvis Tunnel   \n",
       "2   648336   Bashirian, Kunde and Price  62184 Schamberger Underpass Apt. 231   \n",
       "3   109996  D'Amore, Gleichner and Bode           155 Fadel Crescent Apt. 144   \n",
       "4   121213                Bauch-Goldner                   7274 Marissa Common   \n",
       "\n",
       "              city          state  postal-code     Jan     Feb    Mar  \n",
       "0       New Jaycob          Texas        28752   10000   62000  35000  \n",
       "1    Port Khadijah  NorthCarolina        38365   95000   45000  35000  \n",
       "2   New Lilianland           Iowa        76517   91000  120000  35000  \n",
       "3       Hyattburgh          Maine        46021   45000  120000  10000  \n",
       "4  Shanahanchester     California        49681  162000  120000  35000  "
      ]
     },
     "execution_count": 33,
     "metadata": {},
     "output_type": "execute_result"
    }
   ],
   "source": [
    "#Joindre les deux dataframes de ventes en utilisant l’id.\n",
    "CompleteFrame=pd.merge(FrameExcel,FrameVentes,on=\"account\")\n",
    "CompleteFrame.head()"
   ]
  },
  {
   "cell_type": "code",
   "execution_count": 34,
   "metadata": {
    "collapsed": false
   },
   "outputs": [
    {
     "data": {
      "text/plain": [
       "T    0\n",
       "U    1\n",
       "V    2\n",
       "X    3\n",
       "Y    4\n",
       "dtype: int64"
      ]
     },
     "execution_count": 34,
     "metadata": {},
     "output_type": "execute_result"
    }
   ],
   "source": [
    "#Créez deux Series et utilisez pd.concat pour les concaténer par colonne.\n",
    "serie1 =  Series([0,1,2],index=['T','U','V'])\n",
    "serie2 = Series([3,4],index=['X','Y'])\n",
    "pd.concat([serie1,serie2])"
   ]
  },
  {
   "cell_type": "code",
   "execution_count": 35,
   "metadata": {
    "collapsed": true
   },
   "outputs": [],
   "source": [
    "#Créez deux DataFrame avec des missing et essayez de remplacer les valeurs manquantes du premier par les valeurs présentes dans le second en utilisant la seconde méthode.\n",
    "serie1 = Series([2,np.nan,4,np.nan,6,np.nan],\n",
    "           index=['Q','R','S','T','U','V'])\n",
    "\n",
    "serie2 = Series(np.arange(len(serie1), dtype=np.float64),\n",
    "           index=['Q','R','S','T','U','V'])\n",
    "\n",
    "serie2[-1] = np.nan"
   ]
  },
  {
   "cell_type": "code",
   "execution_count": 36,
   "metadata": {
    "collapsed": false
   },
   "outputs": [
    {
     "data": {
      "text/plain": [
       "Q     2\n",
       "R     1\n",
       "S     4\n",
       "T     3\n",
       "U     6\n",
       "V   NaN\n",
       "dtype: float64"
      ]
     },
     "execution_count": 36,
     "metadata": {},
     "output_type": "execute_result"
    }
   ],
   "source": [
    "serie1.combine_first(serie2)"
   ]
  },
  {
   "cell_type": "code",
   "execution_count": 37,
   "metadata": {
    "collapsed": false
   },
   "outputs": [
    {
     "data": {
      "text/plain": [
       "A  un        0\n",
       "   deux      1\n",
       "   trois     2\n",
       "B  un        3\n",
       "   deux      4\n",
       "   trois     5\n",
       "C  un        6\n",
       "   deux      7\n",
       "   trois     8\n",
       "D  un        9\n",
       "   deux     10\n",
       "   trois    11\n",
       "dtype: int32"
      ]
     },
     "execution_count": 37,
     "metadata": {},
     "output_type": "execute_result"
    }
   ],
   "source": [
    "#Créez un DataFrame 4 x 3 avec des index sur les lignes et les colonnes. Transformez ce DataFrame en utilisant stack.\n",
    "Frame4.stack()"
   ]
  },
  {
   "cell_type": "code",
   "execution_count": 38,
   "metadata": {
    "collapsed": false
   },
   "outputs": [
    {
     "data": {
      "text/html": [
       "<div>\n",
       "<table border=\"1\" class=\"dataframe\">\n",
       "  <thead>\n",
       "    <tr style=\"text-align: right;\">\n",
       "      <th></th>\n",
       "      <th>population</th>\n",
       "      <th>ville</th>\n",
       "    </tr>\n",
       "  </thead>\n",
       "  <tbody>\n",
       "    <tr>\n",
       "      <th>0</th>\n",
       "      <td>5000000</td>\n",
       "      <td>Paris</td>\n",
       "    </tr>\n",
       "    <tr>\n",
       "      <th>1</th>\n",
       "      <td>9000000</td>\n",
       "      <td>Rome</td>\n",
       "    </tr>\n",
       "    <tr>\n",
       "      <th>2</th>\n",
       "      <td>3000000</td>\n",
       "      <td>New York</td>\n",
       "    </tr>\n",
       "    <tr>\n",
       "      <th>3</th>\n",
       "      <td>1500000</td>\n",
       "      <td>Lyon</td>\n",
       "    </tr>\n",
       "  </tbody>\n",
       "</table>\n",
       "</div>"
      ],
      "text/plain": [
       "   population     ville\n",
       "0     5000000     Paris\n",
       "1     9000000      Rome\n",
       "2     3000000  New York\n",
       "3     1500000      Lyon"
      ]
     },
     "execution_count": 38,
     "metadata": {},
     "output_type": "execute_result"
    }
   ],
   "source": [
    "#Créez un DataFrame avec comme variables 4 villes de différents pays et leur population. \n",
    "frame_ville= DataFrame({'ville':['Paris','Rome','New York',\"Lyon\"],\n",
    "                    'population':[5000000,9000000,3000000,1500000 ]})\n",
    "\n",
    "frame_ville"
   ]
  },
  {
   "cell_type": "code",
   "execution_count": 40,
   "metadata": {
    "collapsed": false
   },
   "outputs": [
    {
     "data": {
      "text/html": [
       "<div>\n",
       "<table border=\"1\" class=\"dataframe\">\n",
       "  <thead>\n",
       "    <tr style=\"text-align: right;\">\n",
       "      <th></th>\n",
       "      <th>account</th>\n",
       "      <th>Jan</th>\n",
       "      <th>Feb</th>\n",
       "      <th>Mar</th>\n",
       "      <th>level</th>\n",
       "    </tr>\n",
       "  </thead>\n",
       "  <tbody>\n",
       "    <tr>\n",
       "      <th>0</th>\n",
       "      <td>211829</td>\n",
       "      <td>10000</td>\n",
       "      <td>62000</td>\n",
       "      <td>35000</td>\n",
       "      <td>(9848, 40400]</td>\n",
       "    </tr>\n",
       "    <tr>\n",
       "      <th>1</th>\n",
       "      <td>320563</td>\n",
       "      <td>95000</td>\n",
       "      <td>45000</td>\n",
       "      <td>35000</td>\n",
       "      <td>(70800, 101200]</td>\n",
       "    </tr>\n",
       "    <tr>\n",
       "      <th>2</th>\n",
       "      <td>648336</td>\n",
       "      <td>91000</td>\n",
       "      <td>120000</td>\n",
       "      <td>35000</td>\n",
       "      <td>(70800, 101200]</td>\n",
       "    </tr>\n",
       "    <tr>\n",
       "      <th>3</th>\n",
       "      <td>109996</td>\n",
       "      <td>45000</td>\n",
       "      <td>120000</td>\n",
       "      <td>10000</td>\n",
       "      <td>(40400, 70800]</td>\n",
       "    </tr>\n",
       "    <tr>\n",
       "      <th>4</th>\n",
       "      <td>121213</td>\n",
       "      <td>162000</td>\n",
       "      <td>120000</td>\n",
       "      <td>35000</td>\n",
       "      <td>(131600, 162000]</td>\n",
       "    </tr>\n",
       "  </tbody>\n",
       "</table>\n",
       "</div>"
      ],
      "text/plain": [
       "   account     Jan     Feb    Mar             level\n",
       "0   211829   10000   62000  35000     (9848, 40400]\n",
       "1   320563   95000   45000  35000   (70800, 101200]\n",
       "2   648336   91000  120000  35000   (70800, 101200]\n",
       "3   109996   45000  120000  10000    (40400, 70800]\n",
       "4   121213  162000  120000  35000  (131600, 162000]"
      ]
     },
     "execution_count": 40,
     "metadata": {},
     "output_type": "execute_result"
    }
   ],
   "source": [
    "#Créez une variable dans le dataframe des ventes pour obtenir des niveaux de ventes.\n",
    "FrameVentes[\"level\"]=pd.cut(FrameVentes[\"Jan\"],5)\n",
    "FrameVentes.head()"
   ]
  },
  {
   "cell_type": "code",
   "execution_count": 41,
   "metadata": {
    "collapsed": false
   },
   "outputs": [
    {
     "data": {
      "text/html": [
       "<div>\n",
       "<table border=\"1\" class=\"dataframe\">\n",
       "  <thead>\n",
       "    <tr style=\"text-align: right;\">\n",
       "      <th></th>\n",
       "      <th>0</th>\n",
       "      <th>1</th>\n",
       "      <th>2</th>\n",
       "      <th>3</th>\n",
       "    </tr>\n",
       "  </thead>\n",
       "  <tbody>\n",
       "    <tr>\n",
       "      <th>2</th>\n",
       "      <td>8</td>\n",
       "      <td>9</td>\n",
       "      <td>10</td>\n",
       "      <td>11</td>\n",
       "    </tr>\n",
       "    <tr>\n",
       "      <th>3</th>\n",
       "      <td>12</td>\n",
       "      <td>13</td>\n",
       "      <td>14</td>\n",
       "      <td>15</td>\n",
       "    </tr>\n",
       "    <tr>\n",
       "      <th>0</th>\n",
       "      <td>0</td>\n",
       "      <td>1</td>\n",
       "      <td>2</td>\n",
       "      <td>3</td>\n",
       "    </tr>\n",
       "    <tr>\n",
       "      <th>1</th>\n",
       "      <td>4</td>\n",
       "      <td>5</td>\n",
       "      <td>6</td>\n",
       "      <td>7</td>\n",
       "    </tr>\n",
       "  </tbody>\n",
       "</table>\n",
       "</div>"
      ],
      "text/plain": [
       "    0   1   2   3\n",
       "2   8   9  10  11\n",
       "3  12  13  14  15\n",
       "0   0   1   2   3\n",
       "1   4   5   6   7"
      ]
     },
     "execution_count": 41,
     "metadata": {},
     "output_type": "execute_result"
    }
   ],
   "source": [
    "#Créez un DataFrame quelconque puis permutez ses éléments aléatoirement.\n",
    "\n",
    "dframe = DataFrame(np.arange(4 * 4).reshape((4, 4)))\n",
    "permut = np.random.permutation(4)\n",
    "dframe.take(permut)"
   ]
  },
  {
   "cell_type": "code",
   "execution_count": 42,
   "metadata": {
    "collapsed": false
   },
   "outputs": [
    {
     "data": {
      "text/html": [
       "<div>\n",
       "<table border=\"1\" class=\"dataframe\">\n",
       "  <thead>\n",
       "    <tr style=\"text-align: right;\">\n",
       "      <th></th>\n",
       "      <th></th>\n",
       "      <th>Lost</th>\n",
       "      <th>Pct.</th>\n",
       "      <th>Rank</th>\n",
       "      <th>Total Games</th>\n",
       "      <th>Won</th>\n",
       "    </tr>\n",
       "    <tr>\n",
       "      <th>Division</th>\n",
       "      <th></th>\n",
       "      <th></th>\n",
       "      <th></th>\n",
       "      <th></th>\n",
       "      <th></th>\n",
       "      <th></th>\n",
       "    </tr>\n",
       "  </thead>\n",
       "  <tbody>\n",
       "    <tr>\n",
       "      <th rowspan=\"8\" valign=\"top\">Atlantic</th>\n",
       "      <th>count</th>\n",
       "      <td>5.000000</td>\n",
       "      <td>5.000000</td>\n",
       "      <td>5.000000</td>\n",
       "      <td>5.000000</td>\n",
       "      <td>5.000000</td>\n",
       "    </tr>\n",
       "    <tr>\n",
       "      <th>mean</th>\n",
       "      <td>2148.400000</td>\n",
       "      <td>0.490800</td>\n",
       "      <td>16.600000</td>\n",
       "      <td>2148.400000</td>\n",
       "      <td>2148.400000</td>\n",
       "    </tr>\n",
       "    <tr>\n",
       "      <th>std</th>\n",
       "      <td>1050.185841</td>\n",
       "      <td>0.066428</td>\n",
       "      <td>10.163661</td>\n",
       "      <td>1050.185841</td>\n",
       "      <td>1050.185841</td>\n",
       "    </tr>\n",
       "    <tr>\n",
       "      <th>min</th>\n",
       "      <td>734.000000</td>\n",
       "      <td>0.421000</td>\n",
       "      <td>3.000000</td>\n",
       "      <td>734.000000</td>\n",
       "      <td>734.000000</td>\n",
       "    </tr>\n",
       "    <tr>\n",
       "      <th>25%</th>\n",
       "      <td>1360.000000</td>\n",
       "      <td>0.438000</td>\n",
       "      <td>11.000000</td>\n",
       "      <td>1360.000000</td>\n",
       "      <td>1360.000000</td>\n",
       "    </tr>\n",
       "    <tr>\n",
       "      <th>50%</th>\n",
       "      <td>2701.000000</td>\n",
       "      <td>0.493000</td>\n",
       "      <td>16.000000</td>\n",
       "      <td>2701.000000</td>\n",
       "      <td>2701.000000</td>\n",
       "    </tr>\n",
       "    <tr>\n",
       "      <th>75%</th>\n",
       "      <td>2726.000000</td>\n",
       "      <td>0.514000</td>\n",
       "      <td>26.000000</td>\n",
       "      <td>2726.000000</td>\n",
       "      <td>2726.000000</td>\n",
       "    </tr>\n",
       "    <tr>\n",
       "      <th>max</th>\n",
       "      <td>3221.000000</td>\n",
       "      <td>0.588000</td>\n",
       "      <td>27.000000</td>\n",
       "      <td>3221.000000</td>\n",
       "      <td>3221.000000</td>\n",
       "    </tr>\n",
       "    <tr>\n",
       "      <th rowspan=\"8\" valign=\"top\">Central</th>\n",
       "      <th>count</th>\n",
       "      <td>5.000000</td>\n",
       "      <td>5.000000</td>\n",
       "      <td>5.000000</td>\n",
       "      <td>5.000000</td>\n",
       "      <td>5.000000</td>\n",
       "    </tr>\n",
       "    <tr>\n",
       "      <th>mean</th>\n",
       "      <td>2009.600000</td>\n",
       "      <td>0.496000</td>\n",
       "      <td>15.200000</td>\n",
       "      <td>2009.600000</td>\n",
       "      <td>2009.600000</td>\n",
       "    </tr>\n",
       "    <tr>\n",
       "      <th>std</th>\n",
       "      <td>394.249033</td>\n",
       "      <td>0.022237</td>\n",
       "      <td>5.263079</td>\n",
       "      <td>394.249033</td>\n",
       "      <td>394.249033</td>\n",
       "    </tr>\n",
       "    <tr>\n",
       "      <th>min</th>\n",
       "      <td>1606.000000</td>\n",
       "      <td>0.464000</td>\n",
       "      <td>8.000000</td>\n",
       "      <td>1606.000000</td>\n",
       "      <td>1606.000000</td>\n",
       "    </tr>\n",
       "    <tr>\n",
       "      <th>25%</th>\n",
       "      <td>1728.000000</td>\n",
       "      <td>0.487000</td>\n",
       "      <td>13.000000</td>\n",
       "      <td>1728.000000</td>\n",
       "      <td>1728.000000</td>\n",
       "    </tr>\n",
       "    <tr>\n",
       "      <th>50%</th>\n",
       "      <td>1983.000000</td>\n",
       "      <td>0.497000</td>\n",
       "      <td>15.000000</td>\n",
       "      <td>1983.000000</td>\n",
       "      <td>1983.000000</td>\n",
       "    </tr>\n",
       "    <tr>\n",
       "      <th>75%</th>\n",
       "      <td>2115.000000</td>\n",
       "      <td>0.510000</td>\n",
       "      <td>18.000000</td>\n",
       "      <td>2115.000000</td>\n",
       "      <td>2115.000000</td>\n",
       "    </tr>\n",
       "    <tr>\n",
       "      <th>max</th>\n",
       "      <td>2616.000000</td>\n",
       "      <td>0.522000</td>\n",
       "      <td>22.000000</td>\n",
       "      <td>2616.000000</td>\n",
       "      <td>2616.000000</td>\n",
       "    </tr>\n",
       "    <tr>\n",
       "      <th rowspan=\"8\" valign=\"top\">Northwest</th>\n",
       "      <th>count</th>\n",
       "      <td>5.000000</td>\n",
       "      <td>5.000000</td>\n",
       "      <td>5.000000</td>\n",
       "      <td>5.000000</td>\n",
       "      <td>5.000000</td>\n",
       "    </tr>\n",
       "    <tr>\n",
       "      <th>mean</th>\n",
       "      <td>1671.000000</td>\n",
       "      <td>0.496600</td>\n",
       "      <td>13.400000</td>\n",
       "      <td>1671.000000</td>\n",
       "      <td>1671.000000</td>\n",
       "    </tr>\n",
       "    <tr>\n",
       "      <th>std</th>\n",
       "      <td>508.133841</td>\n",
       "      <td>0.063208</td>\n",
       "      <td>10.876580</td>\n",
       "      <td>508.133841</td>\n",
       "      <td>508.133841</td>\n",
       "    </tr>\n",
       "    <tr>\n",
       "      <th>min</th>\n",
       "      <td>847.000000</td>\n",
       "      <td>0.391000</td>\n",
       "      <td>5.000000</td>\n",
       "      <td>847.000000</td>\n",
       "      <td>847.000000</td>\n",
       "    </tr>\n",
       "    <tr>\n",
       "      <th>25%</th>\n",
       "      <td>1563.000000</td>\n",
       "      <td>0.484000</td>\n",
       "      <td>6.000000</td>\n",
       "      <td>1563.000000</td>\n",
       "      <td>1563.000000</td>\n",
       "    </tr>\n",
       "    <tr>\n",
       "      <th>50%</th>\n",
       "      <td>1815.000000</td>\n",
       "      <td>0.534000</td>\n",
       "      <td>7.000000</td>\n",
       "      <td>1815.000000</td>\n",
       "      <td>1815.000000</td>\n",
       "    </tr>\n",
       "    <tr>\n",
       "      <th>75%</th>\n",
       "      <td>1991.000000</td>\n",
       "      <td>0.535000</td>\n",
       "      <td>19.000000</td>\n",
       "      <td>1991.000000</td>\n",
       "      <td>1991.000000</td>\n",
       "    </tr>\n",
       "    <tr>\n",
       "      <th>max</th>\n",
       "      <td>2139.000000</td>\n",
       "      <td>0.539000</td>\n",
       "      <td>30.000000</td>\n",
       "      <td>2139.000000</td>\n",
       "      <td>2139.000000</td>\n",
       "    </tr>\n",
       "    <tr>\n",
       "      <th rowspan=\"8\" valign=\"top\">Pacific</th>\n",
       "      <th>count</th>\n",
       "      <td>5.000000</td>\n",
       "      <td>5.000000</td>\n",
       "      <td>5.000000</td>\n",
       "      <td>5.000000</td>\n",
       "      <td>5.000000</td>\n",
       "    </tr>\n",
       "    <tr>\n",
       "      <th>mean</th>\n",
       "      <td>2376.000000</td>\n",
       "      <td>0.495000</td>\n",
       "      <td>15.600000</td>\n",
       "      <td>2376.000000</td>\n",
       "      <td>2376.000000</td>\n",
       "    </tr>\n",
       "    <tr>\n",
       "      <th>std</th>\n",
       "      <td>647.801281</td>\n",
       "      <td>0.081003</td>\n",
       "      <td>11.970798</td>\n",
       "      <td>647.801281</td>\n",
       "      <td>647.801281</td>\n",
       "    </tr>\n",
       "    <tr>\n",
       "      <th>min</th>\n",
       "      <td>1469.000000</td>\n",
       "      <td>0.394000</td>\n",
       "      <td>2.000000</td>\n",
       "      <td>1469.000000</td>\n",
       "      <td>1469.000000</td>\n",
       "    </tr>\n",
       "    <tr>\n",
       "      <th>25%</th>\n",
       "      <td>2122.000000</td>\n",
       "      <td>0.459000</td>\n",
       "      <td>4.000000</td>\n",
       "      <td>2122.000000</td>\n",
       "      <td>2122.000000</td>\n",
       "    </tr>\n",
       "    <tr>\n",
       "      <th>50%</th>\n",
       "      <td>2464.000000</td>\n",
       "      <td>0.473000</td>\n",
       "      <td>20.000000</td>\n",
       "      <td>2464.000000</td>\n",
       "      <td>2464.000000</td>\n",
       "    </tr>\n",
       "    <tr>\n",
       "      <th>75%</th>\n",
       "      <td>2590.000000</td>\n",
       "      <td>0.546000</td>\n",
       "      <td>23.000000</td>\n",
       "      <td>2590.000000</td>\n",
       "      <td>2590.000000</td>\n",
       "    </tr>\n",
       "    <tr>\n",
       "      <th>max</th>\n",
       "      <td>3235.000000</td>\n",
       "      <td>0.603000</td>\n",
       "      <td>29.000000</td>\n",
       "      <td>3235.000000</td>\n",
       "      <td>3235.000000</td>\n",
       "    </tr>\n",
       "    <tr>\n",
       "      <th rowspan=\"8\" valign=\"top\">Southeast</th>\n",
       "      <th>count</th>\n",
       "      <td>5.000000</td>\n",
       "      <td>5.000000</td>\n",
       "      <td>5.000000</td>\n",
       "      <td>5.000000</td>\n",
       "      <td>5.000000</td>\n",
       "    </tr>\n",
       "    <tr>\n",
       "      <th>mean</th>\n",
       "      <td>1560.400000</td>\n",
       "      <td>0.479800</td>\n",
       "      <td>17.800000</td>\n",
       "      <td>1560.400000</td>\n",
       "      <td>1560.400000</td>\n",
       "    </tr>\n",
       "    <tr>\n",
       "      <th>std</th>\n",
       "      <td>741.632524</td>\n",
       "      <td>0.033767</td>\n",
       "      <td>6.760178</td>\n",
       "      <td>741.632524</td>\n",
       "      <td>741.632524</td>\n",
       "    </tr>\n",
       "    <tr>\n",
       "      <th>min</th>\n",
       "      <td>916.000000</td>\n",
       "      <td>0.440000</td>\n",
       "      <td>9.000000</td>\n",
       "      <td>916.000000</td>\n",
       "      <td>916.000000</td>\n",
       "    </tr>\n",
       "    <tr>\n",
       "      <th>25%</th>\n",
       "      <td>1062.000000</td>\n",
       "      <td>0.450000</td>\n",
       "      <td>14.000000</td>\n",
       "      <td>1062.000000</td>\n",
       "      <td>1062.000000</td>\n",
       "    </tr>\n",
       "    <tr>\n",
       "      <th>50%</th>\n",
       "      <td>1170.000000</td>\n",
       "      <td>0.490000</td>\n",
       "      <td>17.000000</td>\n",
       "      <td>1170.000000</td>\n",
       "      <td>1170.000000</td>\n",
       "    </tr>\n",
       "    <tr>\n",
       "      <th>75%</th>\n",
       "      <td>2004.000000</td>\n",
       "      <td>0.499000</td>\n",
       "      <td>24.000000</td>\n",
       "      <td>2004.000000</td>\n",
       "      <td>2004.000000</td>\n",
       "    </tr>\n",
       "    <tr>\n",
       "      <th>max</th>\n",
       "      <td>2650.000000</td>\n",
       "      <td>0.520000</td>\n",
       "      <td>25.000000</td>\n",
       "      <td>2650.000000</td>\n",
       "      <td>2650.000000</td>\n",
       "    </tr>\n",
       "    <tr>\n",
       "      <th rowspan=\"8\" valign=\"top\">Southwest</th>\n",
       "      <th>count</th>\n",
       "      <td>5.000000</td>\n",
       "      <td>5.000000</td>\n",
       "      <td>5.000000</td>\n",
       "      <td>5.000000</td>\n",
       "      <td>5.000000</td>\n",
       "    </tr>\n",
       "    <tr>\n",
       "      <th>mean</th>\n",
       "      <td>1352.400000</td>\n",
       "      <td>0.505800</td>\n",
       "      <td>14.400000</td>\n",
       "      <td>1352.400000</td>\n",
       "      <td>1352.400000</td>\n",
       "    </tr>\n",
       "    <tr>\n",
       "      <th>std</th>\n",
       "      <td>715.289312</td>\n",
       "      <td>0.076228</td>\n",
       "      <td>10.406729</td>\n",
       "      <td>715.289312</td>\n",
       "      <td>715.289312</td>\n",
       "    </tr>\n",
       "    <tr>\n",
       "      <th>min</th>\n",
       "      <td>528.000000</td>\n",
       "      <td>0.415000</td>\n",
       "      <td>1.000000</td>\n",
       "      <td>528.000000</td>\n",
       "      <td>528.000000</td>\n",
       "    </tr>\n",
       "    <tr>\n",
       "      <th>25%</th>\n",
       "      <td>694.000000</td>\n",
       "      <td>0.466000</td>\n",
       "      <td>10.000000</td>\n",
       "      <td>694.000000</td>\n",
       "      <td>694.000000</td>\n",
       "    </tr>\n",
       "    <tr>\n",
       "      <th>50%</th>\n",
       "      <td>1482.000000</td>\n",
       "      <td>0.510000</td>\n",
       "      <td>12.000000</td>\n",
       "      <td>1482.000000</td>\n",
       "      <td>1482.000000</td>\n",
       "    </tr>\n",
       "    <tr>\n",
       "      <th>75%</th>\n",
       "      <td>2006.000000</td>\n",
       "      <td>0.517000</td>\n",
       "      <td>21.000000</td>\n",
       "      <td>2006.000000</td>\n",
       "      <td>2006.000000</td>\n",
       "    </tr>\n",
       "    <tr>\n",
       "      <th>max</th>\n",
       "      <td>2052.000000</td>\n",
       "      <td>0.621000</td>\n",
       "      <td>28.000000</td>\n",
       "      <td>2052.000000</td>\n",
       "      <td>2052.000000</td>\n",
       "    </tr>\n",
       "  </tbody>\n",
       "</table>\n",
       "</div>"
      ],
      "text/plain": [
       "                        Lost      Pct.       Rank  Total Games          Won\n",
       "Division                                                                   \n",
       "Atlantic  count     5.000000  5.000000   5.000000     5.000000     5.000000\n",
       "          mean   2148.400000  0.490800  16.600000  2148.400000  2148.400000\n",
       "          std    1050.185841  0.066428  10.163661  1050.185841  1050.185841\n",
       "          min     734.000000  0.421000   3.000000   734.000000   734.000000\n",
       "          25%    1360.000000  0.438000  11.000000  1360.000000  1360.000000\n",
       "          50%    2701.000000  0.493000  16.000000  2701.000000  2701.000000\n",
       "          75%    2726.000000  0.514000  26.000000  2726.000000  2726.000000\n",
       "          max    3221.000000  0.588000  27.000000  3221.000000  3221.000000\n",
       "Central   count     5.000000  5.000000   5.000000     5.000000     5.000000\n",
       "          mean   2009.600000  0.496000  15.200000  2009.600000  2009.600000\n",
       "          std     394.249033  0.022237   5.263079   394.249033   394.249033\n",
       "          min    1606.000000  0.464000   8.000000  1606.000000  1606.000000\n",
       "          25%    1728.000000  0.487000  13.000000  1728.000000  1728.000000\n",
       "          50%    1983.000000  0.497000  15.000000  1983.000000  1983.000000\n",
       "          75%    2115.000000  0.510000  18.000000  2115.000000  2115.000000\n",
       "          max    2616.000000  0.522000  22.000000  2616.000000  2616.000000\n",
       "Northwest count     5.000000  5.000000   5.000000     5.000000     5.000000\n",
       "          mean   1671.000000  0.496600  13.400000  1671.000000  1671.000000\n",
       "          std     508.133841  0.063208  10.876580   508.133841   508.133841\n",
       "          min     847.000000  0.391000   5.000000   847.000000   847.000000\n",
       "          25%    1563.000000  0.484000   6.000000  1563.000000  1563.000000\n",
       "          50%    1815.000000  0.534000   7.000000  1815.000000  1815.000000\n",
       "          75%    1991.000000  0.535000  19.000000  1991.000000  1991.000000\n",
       "          max    2139.000000  0.539000  30.000000  2139.000000  2139.000000\n",
       "Pacific   count     5.000000  5.000000   5.000000     5.000000     5.000000\n",
       "          mean   2376.000000  0.495000  15.600000  2376.000000  2376.000000\n",
       "          std     647.801281  0.081003  11.970798   647.801281   647.801281\n",
       "          min    1469.000000  0.394000   2.000000  1469.000000  1469.000000\n",
       "          25%    2122.000000  0.459000   4.000000  2122.000000  2122.000000\n",
       "          50%    2464.000000  0.473000  20.000000  2464.000000  2464.000000\n",
       "          75%    2590.000000  0.546000  23.000000  2590.000000  2590.000000\n",
       "          max    3235.000000  0.603000  29.000000  3235.000000  3235.000000\n",
       "Southeast count     5.000000  5.000000   5.000000     5.000000     5.000000\n",
       "          mean   1560.400000  0.479800  17.800000  1560.400000  1560.400000\n",
       "          std     741.632524  0.033767   6.760178   741.632524   741.632524\n",
       "          min     916.000000  0.440000   9.000000   916.000000   916.000000\n",
       "          25%    1062.000000  0.450000  14.000000  1062.000000  1062.000000\n",
       "          50%    1170.000000  0.490000  17.000000  1170.000000  1170.000000\n",
       "          75%    2004.000000  0.499000  24.000000  2004.000000  2004.000000\n",
       "          max    2650.000000  0.520000  25.000000  2650.000000  2650.000000\n",
       "Southwest count     5.000000  5.000000   5.000000     5.000000     5.000000\n",
       "          mean   1352.400000  0.505800  14.400000  1352.400000  1352.400000\n",
       "          std     715.289312  0.076228  10.406729   715.289312   715.289312\n",
       "          min     528.000000  0.415000   1.000000   528.000000   528.000000\n",
       "          25%     694.000000  0.466000  10.000000   694.000000   694.000000\n",
       "          50%    1482.000000  0.510000  12.000000  1482.000000  1482.000000\n",
       "          75%    2006.000000  0.517000  21.000000  2006.000000  2006.000000\n",
       "          max    2052.000000  0.621000  28.000000  2052.000000  2052.000000"
      ]
     },
     "execution_count": 42,
     "metadata": {},
     "output_type": "execute_result"
    }
   ],
   "source": [
    "#cas du Basket\n",
    "frame2.groupby('Division').describe()"
   ]
  },
  {
   "cell_type": "code",
   "execution_count": 43,
   "metadata": {
    "collapsed": false
   },
   "outputs": [
    {
     "data": {
      "text/plain": [
       "2015-12-03    0\n",
       "2015-12-04    1\n",
       "2015-12-05    2\n",
       "2015-12-06    3\n",
       "2015-12-07    4\n",
       "Freq: D, dtype: int64"
      ]
     },
     "execution_count": 43,
     "metadata": {},
     "output_type": "execute_result"
    }
   ],
   "source": [
    "#Créez un objet Series et ajoutez des dates partant du 3 décembre 2015 par jour jusqu’à aujourd’hui.\n",
    "date=pd.date_range('12-03-2015',periods=5,freq='d')\n",
    "\n",
    "serieD=Series(range(5), index=date)\n",
    "serieD"
   ]
  },
  {
   "cell_type": "code",
   "execution_count": null,
   "metadata": {
    "collapsed": true
   },
   "outputs": [],
   "source": []
  },
  {
   "cell_type": "code",
   "execution_count": null,
   "metadata": {
    "collapsed": true
   },
   "outputs": [],
   "source": []
  }
 ],
 "metadata": {
  "kernelspec": {
   "display_name": "Python 2",
   "language": "python",
   "name": "python2"
  },
  "language_info": {
   "codemirror_mode": {
    "name": "ipython",
    "version": 2
   },
   "file_extension": ".py",
   "mimetype": "text/x-python",
   "name": "python",
   "nbconvert_exporter": "python",
   "pygments_lexer": "ipython2",
   "version": "2.7.11"
  }
 },
 "nbformat": 4,
 "nbformat_minor": 0
}
